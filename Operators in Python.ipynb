{
 "cells": [
  {
   "cell_type": "markdown",
   "id": "5e8f2e46-9f18-4cc4-b608-7a6517296964",
   "metadata": {},
   "source": [
    "# Operators in python"
   ]
  },
  {
   "cell_type": "markdown",
   "id": "bbc26512-3152-4057-be7b-ccba48afa318",
   "metadata": {},
   "source": [
    "# 1.Arithmatic Operators"
   ]
  },
  {
   "cell_type": "markdown",
   "id": "2b98467a-e69f-4f1d-acbc-af8df879eb99",
   "metadata": {},
   "source": [
    "## Addition"
   ]
  },
  {
   "cell_type": "code",
   "execution_count": 50,
   "id": "8e4afb71-e821-4031-bc8a-6727c5b30df7",
   "metadata": {},
   "outputs": [
    {
     "name": "stdout",
     "output_type": "stream",
     "text": [
      "20\n"
     ]
    }
   ],
   "source": [
    "x1,y1=5,15\n",
    "print(x1+y1)"
   ]
  },
  {
   "cell_type": "markdown",
   "id": "10378468-9f3c-4f89-8007-285d45bb94b5",
   "metadata": {},
   "source": [
    "## Subtraction "
   ]
  },
  {
   "cell_type": "code",
   "execution_count": 53,
   "id": "c4d79597-5a3d-40d9-87ed-aa45108b13d9",
   "metadata": {},
   "outputs": [
    {
     "data": {
      "text/plain": [
       "10"
      ]
     },
     "execution_count": 53,
     "metadata": {},
     "output_type": "execute_result"
    }
   ],
   "source": [
    "y1-x1"
   ]
  },
  {
   "cell_type": "markdown",
   "id": "082bf137-66ac-4588-ad8e-8543bdd6d24b",
   "metadata": {},
   "source": [
    "## Multiplication"
   ]
  },
  {
   "cell_type": "code",
   "execution_count": 56,
   "id": "7eea15bb-2f66-4ce7-a386-2bdb4936af41",
   "metadata": {},
   "outputs": [
    {
     "data": {
      "text/plain": [
       "10"
      ]
     },
     "execution_count": 56,
     "metadata": {},
     "output_type": "execute_result"
    }
   ],
   "source": [
    "x1*2"
   ]
  },
  {
   "cell_type": "code",
   "execution_count": 58,
   "id": "d2bbc04b-45ac-49ac-a9c6-949288589c1d",
   "metadata": {},
   "outputs": [
    {
     "data": {
      "text/plain": [
       "75"
      ]
     },
     "execution_count": 58,
     "metadata": {},
     "output_type": "execute_result"
    }
   ],
   "source": [
    "y1*5"
   ]
  },
  {
   "cell_type": "markdown",
   "id": "799f5701-d026-4e72-acea-cb22714a754b",
   "metadata": {},
   "source": [
    "## Division with and with out decimal"
   ]
  },
  {
   "cell_type": "code",
   "execution_count": 62,
   "id": "76cfc71f-e041-40c2-abb4-b635a41aa5eb",
   "metadata": {},
   "outputs": [
    {
     "data": {
      "text/plain": [
       "3.0"
      ]
     },
     "execution_count": 62,
     "metadata": {},
     "output_type": "execute_result"
    }
   ],
   "source": [
    "y1 / x1"
   ]
  },
  {
   "cell_type": "code",
   "execution_count": 64,
   "id": "593b113d-fca5-4648-8827-3350c2386623",
   "metadata": {},
   "outputs": [
    {
     "data": {
      "text/plain": [
       "3"
      ]
     },
     "execution_count": 64,
     "metadata": {},
     "output_type": "execute_result"
    }
   ],
   "source": [
    "y1 // x1"
   ]
  },
  {
   "cell_type": "markdown",
   "id": "904dbb6a-6ba4-477d-870a-b146578cbaab",
   "metadata": {},
   "source": [
    "## Modulas"
   ]
  },
  {
   "cell_type": "code",
   "execution_count": 67,
   "id": "2b31d266-1258-4ef2-b60b-25485b9506ee",
   "metadata": {},
   "outputs": [
    {
     "data": {
      "text/plain": [
       "5"
      ]
     },
     "execution_count": 67,
     "metadata": {},
     "output_type": "execute_result"
    }
   ],
   "source": [
    "x1 % y1"
   ]
  },
  {
   "cell_type": "markdown",
   "id": "f0042ac3-89d5-4588-8152-c7bd50218e5d",
   "metadata": {},
   "source": [
    "## Exponental"
   ]
  },
  {
   "cell_type": "code",
   "execution_count": 72,
   "id": "c0c856cf-a151-4d1d-a5e0-961a99bd9925",
   "metadata": {},
   "outputs": [],
   "source": [
    "x1,y1=2,4"
   ]
  },
  {
   "cell_type": "code",
   "execution_count": 74,
   "id": "d3495eaf-de63-4cef-a1d7-48abd5c1cebc",
   "metadata": {},
   "outputs": [
    {
     "data": {
      "text/plain": [
       "16"
      ]
     },
     "execution_count": 74,
     "metadata": {},
     "output_type": "execute_result"
    }
   ],
   "source": [
    "x1 ** y1"
   ]
  },
  {
   "cell_type": "code",
   "execution_count": null,
   "id": "704bcd6b-fbc0-46d2-b52c-8185b58f7c53",
   "metadata": {},
   "outputs": [],
   "source": []
  },
  {
   "cell_type": "markdown",
   "id": "f84a9281-064e-41ee-a151-0a25b586316b",
   "metadata": {},
   "source": [
    "# 2.Assignment Operator"
   ]
  },
  {
   "cell_type": "code",
   "execution_count": 80,
   "id": "001bdf06-d1b8-4b50-b6da-41127936506a",
   "metadata": {},
   "outputs": [],
   "source": [
    "x=2"
   ]
  },
  {
   "cell_type": "code",
   "execution_count": 82,
   "id": "134386ea-2541-4a70-91dc-f31956082603",
   "metadata": {},
   "outputs": [
    {
     "data": {
      "text/plain": [
       "4"
      ]
     },
     "execution_count": 82,
     "metadata": {},
     "output_type": "execute_result"
    }
   ],
   "source": [
    "x+=2\n",
    "x"
   ]
  },
  {
   "cell_type": "code",
   "execution_count": 84,
   "id": "2ea05010-f73d-4e6d-bf40-f9f64ee3e56f",
   "metadata": {},
   "outputs": [
    {
     "data": {
      "text/plain": [
       "2"
      ]
     },
     "execution_count": 84,
     "metadata": {},
     "output_type": "execute_result"
    }
   ],
   "source": [
    "x-=2\n",
    "x"
   ]
  },
  {
   "cell_type": "code",
   "execution_count": 86,
   "id": "ff1dd21d-7b91-4534-86bc-ba9d6a1f622a",
   "metadata": {},
   "outputs": [],
   "source": [
    "x*=2"
   ]
  },
  {
   "cell_type": "code",
   "execution_count": 88,
   "id": "79989a15-1b0f-4f8e-a6db-a9714c6506a8",
   "metadata": {},
   "outputs": [
    {
     "data": {
      "text/plain": [
       "4"
      ]
     },
     "execution_count": 88,
     "metadata": {},
     "output_type": "execute_result"
    }
   ],
   "source": [
    "x"
   ]
  },
  {
   "cell_type": "code",
   "execution_count": 90,
   "id": "650d04f5-a0d9-42ec-ba29-c554c4bf8744",
   "metadata": {},
   "outputs": [],
   "source": [
    "x/=2"
   ]
  },
  {
   "cell_type": "code",
   "execution_count": 92,
   "id": "818c6965-3c3f-42ca-944c-edaa18cb7697",
   "metadata": {},
   "outputs": [
    {
     "data": {
      "text/plain": [
       "2.0"
      ]
     },
     "execution_count": 92,
     "metadata": {},
     "output_type": "execute_result"
    }
   ],
   "source": [
    "x"
   ]
  },
  {
   "cell_type": "code",
   "execution_count": 94,
   "id": "7f26f451-833a-4f08-a840-06d6ce6755ea",
   "metadata": {},
   "outputs": [],
   "source": [
    "x//=2"
   ]
  },
  {
   "cell_type": "code",
   "execution_count": 96,
   "id": "a0dc84ee-54c7-47de-b4d4-687dbe641eee",
   "metadata": {},
   "outputs": [
    {
     "data": {
      "text/plain": [
       "1.0"
      ]
     },
     "execution_count": 96,
     "metadata": {},
     "output_type": "execute_result"
    }
   ],
   "source": [
    "x"
   ]
  },
  {
   "cell_type": "code",
   "execution_count": 98,
   "id": "aad6e07c-223d-48f5-80b4-6f254cd36c6c",
   "metadata": {},
   "outputs": [],
   "source": [
    "a,b=5,6"
   ]
  },
  {
   "cell_type": "code",
   "execution_count": 100,
   "id": "977a70b5-b0f1-4204-b36a-3b3aeba3cbec",
   "metadata": {},
   "outputs": [],
   "source": [
    "a,b=b,a"
   ]
  },
  {
   "cell_type": "code",
   "execution_count": 102,
   "id": "2739f641-aafa-4d52-be9f-178a4d9b7fb6",
   "metadata": {},
   "outputs": [
    {
     "data": {
      "text/plain": [
       "6"
      ]
     },
     "execution_count": 102,
     "metadata": {},
     "output_type": "execute_result"
    }
   ],
   "source": [
    "a"
   ]
  },
  {
   "cell_type": "code",
   "execution_count": 104,
   "id": "004e78b3-4df4-4431-8652-09a988a213c4",
   "metadata": {},
   "outputs": [
    {
     "data": {
      "text/plain": [
       "5"
      ]
     },
     "execution_count": 104,
     "metadata": {},
     "output_type": "execute_result"
    }
   ],
   "source": [
    "b"
   ]
  },
  {
   "cell_type": "code",
   "execution_count": 1,
   "id": "0c97738f-6a35-4cdb-b3da-662a12876ce3",
   "metadata": {},
   "outputs": [
    {
     "data": {
      "text/plain": [
       "0"
      ]
     },
     "execution_count": 1,
     "metadata": {},
     "output_type": "execute_result"
    }
   ],
   "source": [
    "10%5"
   ]
  },
  {
   "cell_type": "markdown",
   "id": "df8f40d6-69c2-42cd-8b45-ff4affc2260e",
   "metadata": {},
   "source": [
    "# 3.Unary Operator "
   ]
  },
  {
   "cell_type": "code",
   "execution_count": 107,
   "id": "8edbe43b-ce8e-400c-abd7-784debdb7575",
   "metadata": {},
   "outputs": [
    {
     "data": {
      "text/plain": [
       "-7"
      ]
     },
     "execution_count": 107,
     "metadata": {},
     "output_type": "execute_result"
    }
   ],
   "source": [
    "n=7\n",
    "m=-(n)\n",
    "m"
   ]
  },
  {
   "cell_type": "code",
   "execution_count": 109,
   "id": "66731824-b40e-4fc7-a009-6ff6d98dbc6b",
   "metadata": {},
   "outputs": [
    {
     "data": {
      "text/plain": [
       "-7"
      ]
     },
     "execution_count": 109,
     "metadata": {},
     "output_type": "execute_result"
    }
   ],
   "source": [
    "-n"
   ]
  },
  {
   "cell_type": "code",
   "execution_count": 111,
   "id": "2edeb1ad-1b97-4ac0-be48-8afd453cb2db",
   "metadata": {},
   "outputs": [
    {
     "data": {
      "text/plain": [
       "7"
      ]
     },
     "execution_count": 111,
     "metadata": {},
     "output_type": "execute_result"
    }
   ],
   "source": [
    "-(-n)"
   ]
  },
  {
   "cell_type": "code",
   "execution_count": 113,
   "id": "27e54e36-03c9-4b33-8b2f-96de7580a46b",
   "metadata": {},
   "outputs": [
    {
     "data": {
      "text/plain": [
       "7"
      ]
     },
     "execution_count": 113,
     "metadata": {},
     "output_type": "execute_result"
    }
   ],
   "source": [
    "-m"
   ]
  },
  {
   "cell_type": "markdown",
   "id": "341d6ea1-201e-47ff-8de8-7e136d282c68",
   "metadata": {},
   "source": [
    "# 4.Relational operator "
   ]
  },
  {
   "cell_type": "code",
   "execution_count": 14,
   "id": "821e9e29-259f-49f0-999d-f68165188f43",
   "metadata": {},
   "outputs": [],
   "source": [
    "a=5\n",
    "b=7"
   ]
  },
  {
   "cell_type": "code",
   "execution_count": 16,
   "id": "9b5f663c-a077-454f-99e5-1a163f756aa9",
   "metadata": {},
   "outputs": [
    {
     "data": {
      "text/plain": [
       "False"
      ]
     },
     "execution_count": 16,
     "metadata": {},
     "output_type": "execute_result"
    }
   ],
   "source": [
    "a>b"
   ]
  },
  {
   "cell_type": "code",
   "execution_count": 18,
   "id": "3adecc95-2f0f-4e41-accd-ec45ba191e9f",
   "metadata": {},
   "outputs": [
    {
     "data": {
      "text/plain": [
       "True"
      ]
     },
     "execution_count": 18,
     "metadata": {},
     "output_type": "execute_result"
    }
   ],
   "source": [
    "b>a"
   ]
  },
  {
   "cell_type": "code",
   "execution_count": 20,
   "id": "51cad76b-9147-4ce9-b32b-e09aee151506",
   "metadata": {},
   "outputs": [
    {
     "data": {
      "text/plain": [
       "True"
      ]
     },
     "execution_count": 20,
     "metadata": {},
     "output_type": "execute_result"
    }
   ],
   "source": [
    "a<b"
   ]
  },
  {
   "cell_type": "code",
   "execution_count": 22,
   "id": "75c3e190-0b92-4f30-ac6c-43c0067da806",
   "metadata": {},
   "outputs": [
    {
     "data": {
      "text/plain": [
       "False"
      ]
     },
     "execution_count": 22,
     "metadata": {},
     "output_type": "execute_result"
    }
   ],
   "source": [
    "b<a"
   ]
  },
  {
   "cell_type": "code",
   "execution_count": 24,
   "id": "7902ba20-0d46-4666-b5d6-10272ee3b56c",
   "metadata": {},
   "outputs": [
    {
     "data": {
      "text/plain": [
       "False"
      ]
     },
     "execution_count": 24,
     "metadata": {},
     "output_type": "execute_result"
    }
   ],
   "source": [
    "a==b"
   ]
  },
  {
   "cell_type": "code",
   "execution_count": 26,
   "id": "c4afe847-cdea-4000-9e61-fbef72178416",
   "metadata": {},
   "outputs": [],
   "source": [
    "a= 10"
   ]
  },
  {
   "cell_type": "code",
   "execution_count": 28,
   "id": "0d67cd94-63e1-4f9b-8e81-dbb0d97e1cc0",
   "metadata": {},
   "outputs": [
    {
     "data": {
      "text/plain": [
       "True"
      ]
     },
     "execution_count": 28,
     "metadata": {},
     "output_type": "execute_result"
    }
   ],
   "source": [
    "a!=b"
   ]
  },
  {
   "cell_type": "code",
   "execution_count": 30,
   "id": "8cc4be58-11ab-4c4a-8579-5ab68bb04934",
   "metadata": {},
   "outputs": [],
   "source": [
    "b=10"
   ]
  },
  {
   "cell_type": "code",
   "execution_count": 32,
   "id": "74399660-7a32-4cf8-a8e9-526786d26c73",
   "metadata": {},
   "outputs": [
    {
     "data": {
      "text/plain": [
       "True"
      ]
     },
     "execution_count": 32,
     "metadata": {},
     "output_type": "execute_result"
    }
   ],
   "source": [
    "a==b"
   ]
  },
  {
   "cell_type": "code",
   "execution_count": 34,
   "id": "c5fc23f6-57bf-40a2-9271-372f551f4fed",
   "metadata": {},
   "outputs": [
    {
     "data": {
      "text/plain": [
       "True"
      ]
     },
     "execution_count": 34,
     "metadata": {},
     "output_type": "execute_result"
    }
   ],
   "source": [
    "a<=b"
   ]
  },
  {
   "cell_type": "code",
   "execution_count": 36,
   "id": "3e4b14d6-34fc-47a8-b645-ddc62dfb025e",
   "metadata": {},
   "outputs": [
    {
     "data": {
      "text/plain": [
       "True"
      ]
     },
     "execution_count": 36,
     "metadata": {},
     "output_type": "execute_result"
    }
   ],
   "source": [
    "a>=b"
   ]
  },
  {
   "cell_type": "code",
   "execution_count": 38,
   "id": "8a45d0f8-9e58-446c-9b97-300d043b92cc",
   "metadata": {},
   "outputs": [
    {
     "data": {
      "text/plain": [
       "False"
      ]
     },
     "execution_count": 38,
     "metadata": {},
     "output_type": "execute_result"
    }
   ],
   "source": [
    "a!=b"
   ]
  },
  {
   "cell_type": "markdown",
   "id": "88a3b6c7-cf89-4a7c-ab86-501e748b34d0",
   "metadata": {},
   "source": [
    "# 5.LOGICAL OPERATOR \n",
    "## AND, OR, NOT\n"
   ]
  },
  {
   "cell_type": "code",
   "execution_count": 45,
   "id": "501def43-76a8-4ea1-8c9f-94a5482f2db1",
   "metadata": {},
   "outputs": [],
   "source": [
    "a=5\n",
    "b=10"
   ]
  },
  {
   "cell_type": "code",
   "execution_count": 47,
   "id": "055771a2-21bd-4e84-a81c-d89269d18272",
   "metadata": {},
   "outputs": [
    {
     "data": {
      "text/plain": [
       "True"
      ]
     },
     "execution_count": 47,
     "metadata": {},
     "output_type": "execute_result"
    }
   ],
   "source": [
    "a>3 and b<20"
   ]
  },
  {
   "cell_type": "code",
   "execution_count": 51,
   "id": "d7917049-3fea-49e3-8364-a626cd702200",
   "metadata": {},
   "outputs": [
    {
     "data": {
      "text/plain": [
       "False"
      ]
     },
     "execution_count": 51,
     "metadata": {},
     "output_type": "execute_result"
    }
   ],
   "source": [
    "a>3 and 11<b"
   ]
  },
  {
   "cell_type": "code",
   "execution_count": 55,
   "id": "f50e5d7d-1555-4077-9bc2-6b4d23b0346e",
   "metadata": {},
   "outputs": [
    {
     "data": {
      "text/plain": [
       "False"
      ]
     },
     "execution_count": 55,
     "metadata": {},
     "output_type": "execute_result"
    }
   ],
   "source": [
    "x = False\n",
    "x    #reserve the value of x as False"
   ]
  },
  {
   "cell_type": "code",
   "execution_count": 57,
   "id": "46f97e20-0acf-4807-91a9-e7d49ef1a0a2",
   "metadata": {},
   "outputs": [
    {
     "data": {
      "text/plain": [
       "True"
      ]
     },
     "execution_count": 57,
     "metadata": {},
     "output_type": "execute_result"
    }
   ],
   "source": [
    "not x"
   ]
  },
  {
   "cell_type": "code",
   "execution_count": 59,
   "id": "62d611f7-aa04-446f-b1b6-261dbef97f3f",
   "metadata": {},
   "outputs": [
    {
     "data": {
      "text/plain": [
       "True"
      ]
     },
     "execution_count": 59,
     "metadata": {},
     "output_type": "execute_result"
    }
   ],
   "source": [
    "x = not x\n",
    "x"
   ]
  },
  {
   "cell_type": "code",
   "execution_count": 61,
   "id": "25191ea3-d151-411e-94c2-a23158ce460b",
   "metadata": {},
   "outputs": [
    {
     "data": {
      "text/plain": [
       "False"
      ]
     },
     "execution_count": 61,
     "metadata": {},
     "output_type": "execute_result"
    }
   ],
   "source": [
    "not x"
   ]
  }
 ],
 "metadata": {
  "kernelspec": {
   "display_name": "Python 3 (ipykernel)",
   "language": "python",
   "name": "python3"
  },
  "language_info": {
   "codemirror_mode": {
    "name": "ipython",
    "version": 3
   },
   "file_extension": ".py",
   "mimetype": "text/x-python",
   "name": "python",
   "nbconvert_exporter": "python",
   "pygments_lexer": "ipython3",
   "version": "3.12.7"
  }
 },
 "nbformat": 4,
 "nbformat_minor": 5
}
